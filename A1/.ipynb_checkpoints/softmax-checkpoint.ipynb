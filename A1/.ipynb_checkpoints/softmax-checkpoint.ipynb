{
 "cells": [
  {
   "cell_type": "markdown",
   "metadata": {},
   "source": [
    "# Softmax exercise\n",
    "\n",
    "*Complete and hand in this completed worksheet (including its outputs and any supporting code outside of the worksheet) with your assignment submission. For more details see the [assignments page](http://vision.stanford.edu/teaching/cs231n/assignments.html) on the course website.*\n",
    "\n",
    "This exercise is analogous to the SVM exercise. You will:\n",
    "\n",
    "- implement a fully-vectorized **loss function** for the Softmax classifier\n",
    "- implement the fully-vectorized expression for its **analytic gradient**\n",
    "- **check your implementation** with numerical gradient\n",
    "- use a validation set to **tune the learning rate and regularization** strength\n",
    "- **optimize** the loss function with **SGD**\n",
    "- **visualize** the final learned weights\n"
   ]
  },
  {
   "cell_type": "code",
   "execution_count": 1,
   "metadata": {
    "collapsed": false
   },
   "outputs": [],
   "source": [
    "import random\n",
    "import numpy as np\n",
    "from cs231n.data_utils import load_CIFAR10\n",
    "import matplotlib.pyplot as plt\n",
    "%matplotlib inline\n",
    "plt.rcParams['figure.figsize'] = (10.0, 8.0) # set default size of plots\n",
    "plt.rcParams['image.interpolation'] = 'nearest'\n",
    "plt.rcParams['image.cmap'] = 'gray'\n",
    "\n",
    "# for auto-reloading extenrnal modules\n",
    "# see http://stackoverflow.com/questions/1907993/autoreload-of-modules-in-ipython\n",
    "%load_ext autoreload\n",
    "%autoreload 2"
   ]
  },
  {
   "cell_type": "code",
   "execution_count": 2,
   "metadata": {
    "collapsed": false
   },
   "outputs": [
    {
     "name": "stdout",
     "output_type": "stream",
     "text": [
      "Train data shape:  (49000L, 3073L)\n",
      "Train labels shape:  (49000L,)\n",
      "Validation data shape:  (1000L, 3073L)\n",
      "Validation labels shape:  (1000L,)\n",
      "Test data shape:  (1000L, 3073L)\n",
      "Test labels shape:  (1000L,)\n",
      "dev data shape:  (500L, 3073L)\n",
      "dev labels shape:  (500L,)\n"
     ]
    }
   ],
   "source": [
    "def get_CIFAR10_data(num_training=49000, num_validation=1000, num_test=1000, num_dev=500):\n",
    "  \"\"\"\n",
    "  Load the CIFAR-10 dataset from disk and perform preprocessing to prepare\n",
    "  it for the linear classifier. These are the same steps as we used for the\n",
    "  SVM, but condensed to a single function.  \n",
    "  \"\"\"\n",
    "  # Load the raw CIFAR-10 data\n",
    "  cifar10_dir = 'cs231n/datasets/cifar-10-batches-py'\n",
    "  X_train, y_train, X_test, y_test = load_CIFAR10(cifar10_dir)\n",
    "  \n",
    "  # subsample the data\n",
    "  mask = range(num_training, num_training + num_validation)\n",
    "  X_val = X_train[mask]\n",
    "  y_val = y_train[mask]\n",
    "  mask = range(num_training)\n",
    "  X_train = X_train[mask]\n",
    "  y_train = y_train[mask]\n",
    "  mask = range(num_test)\n",
    "  X_test = X_test[mask]\n",
    "  y_test = y_test[mask]\n",
    "  mask = np.random.choice(num_training, num_dev, replace=False)\n",
    "  X_dev = X_train[mask]\n",
    "  y_dev = y_train[mask]\n",
    "  \n",
    "  # Preprocessing: reshape the image data into rows\n",
    "  X_train = np.reshape(X_train, (X_train.shape[0], -1))\n",
    "  X_val = np.reshape(X_val, (X_val.shape[0], -1))\n",
    "  X_test = np.reshape(X_test, (X_test.shape[0], -1))\n",
    "  X_dev = np.reshape(X_dev, (X_dev.shape[0], -1))\n",
    "  \n",
    "  # Normalize the data: subtract the mean image\n",
    "  mean_image = np.mean(X_train, axis = 0)\n",
    "  X_train -= mean_image\n",
    "  X_val -= mean_image\n",
    "  X_test -= mean_image\n",
    "  X_dev -= mean_image\n",
    "  \n",
    "  # add bias dimension and transform into columns\n",
    "  X_train = np.hstack([X_train, np.ones((X_train.shape[0], 1))])\n",
    "  X_val = np.hstack([X_val, np.ones((X_val.shape[0], 1))])\n",
    "  X_test = np.hstack([X_test, np.ones((X_test.shape[0], 1))])\n",
    "  X_dev = np.hstack([X_dev, np.ones((X_dev.shape[0], 1))])\n",
    "  \n",
    "  return X_train, y_train, X_val, y_val, X_test, y_test, X_dev, y_dev\n",
    "\n",
    "\n",
    "# Invoke the above function to get our data.\n",
    "X_train, y_train, X_val, y_val, X_test, y_test, X_dev, y_dev = get_CIFAR10_data()\n",
    "print 'Train data shape: ', X_train.shape\n",
    "print 'Train labels shape: ', y_train.shape\n",
    "print 'Validation data shape: ', X_val.shape\n",
    "print 'Validation labels shape: ', y_val.shape\n",
    "print 'Test data shape: ', X_test.shape\n",
    "print 'Test labels shape: ', y_test.shape\n",
    "print 'dev data shape: ', X_dev.shape\n",
    "print 'dev labels shape: ', y_dev.shape"
   ]
  },
  {
   "cell_type": "markdown",
   "metadata": {},
   "source": [
    "## Softmax Classifier\n",
    "\n",
    "Your code for this section will all be written inside **cs231n/classifiers/softmax.py**. \n"
   ]
  },
  {
   "cell_type": "code",
   "execution_count": 3,
   "metadata": {
    "collapsed": false
   },
   "outputs": [
    {
     "name": "stdout",
     "output_type": "stream",
     "text": [
      "loss: 2.373447\n",
      "sanity check: 2.302585\n"
     ]
    }
   ],
   "source": [
    "# First implement the naive softmax loss function with nested loops.\n",
    "# Open the file cs231n/classifiers/softmax.py and implement the\n",
    "# softmax_loss_naive function.\n",
    "\n",
    "from cs231n.classifiers.softmax import softmax_loss_naive\n",
    "import time\n",
    "\n",
    "# Generate a random softmax weight matrix and use it to compute the loss.\n",
    "W = np.random.randn(3073, 10) * 0.0001\n",
    "loss, grad = softmax_loss_naive(W, X_dev, y_dev, 0.0)\n",
    "\n",
    "# As a rough sanity check, our loss should be something close to -log(0.1).\n",
    "print 'loss: %f' % loss\n",
    "print 'sanity check: %f' % (-np.log(0.1))"
   ]
  },
  {
   "cell_type": "markdown",
   "metadata": {},
   "source": [
    "## Inline Question 1:\n",
    "Why do we expect our loss to be close to -log(0.1)? Explain briefly.**\n",
    "\n",
    "**Your answer:** *Fill this in*\n",
    "If we randomly initialize the weight matrix we will get the probablity approximately 1/num_class. So the loss will be close to - log(0.1)"
   ]
  },
  {
   "cell_type": "code",
   "execution_count": 4,
   "metadata": {
    "collapsed": false
   },
   "outputs": [
    {
     "name": "stdout",
     "output_type": "stream",
     "text": [
      "numerical: -2.726895 analytic: -2.726895, relative error: 2.490517e-08\n",
      "numerical: 0.943227 analytic: 0.943226, relative error: 1.206774e-07\n",
      "numerical: -2.097336 analytic: -2.097336, relative error: 1.332796e-08\n",
      "numerical: -2.231991 analytic: -2.231992, relative error: 9.571050e-09\n",
      "numerical: -0.373587 analytic: -0.373587, relative error: 6.009422e-08\n",
      "numerical: -0.412434 analytic: -0.412434, relative error: 4.209149e-08\n",
      "numerical: 1.487476 analytic: 1.487476, relative error: 1.375141e-09\n",
      "numerical: -0.761891 analytic: -0.761891, relative error: 6.425600e-08\n",
      "numerical: -1.467795 analytic: -1.467796, relative error: 4.599083e-08\n",
      "numerical: 0.818071 analytic: 0.818071, relative error: 5.908501e-08\n",
      "numerical: 3.158885 analytic: 3.158885, relative error: 1.151605e-09\n",
      "numerical: 4.176947 analytic: 4.176947, relative error: 7.650529e-09\n",
      "numerical: -3.788600 analytic: -3.788600, relative error: 3.809403e-09\n",
      "numerical: 0.640483 analytic: 0.640483, relative error: 9.337614e-08\n",
      "numerical: -1.431399 analytic: -1.431400, relative error: 2.763978e-08\n",
      "numerical: 3.748910 analytic: 3.748910, relative error: 1.238195e-09\n",
      "numerical: -0.785469 analytic: -0.785469, relative error: 4.599611e-08\n",
      "numerical: 2.789103 analytic: 2.789103, relative error: 8.736744e-09\n",
      "numerical: -1.052673 analytic: -1.052673, relative error: 2.085923e-09\n",
      "numerical: 3.224936 analytic: 3.224936, relative error: 3.166085e-08\n"
     ]
    }
   ],
   "source": [
    "# Complete the implementation of softmax_loss_naive and implement a (naive)\n",
    "# version of the gradient that uses nested loops.\n",
    "loss, grad = softmax_loss_naive(W, X_dev, y_dev, 0.0)\n",
    "\n",
    "# As we did for the SVM, use numeric gradient checking as a debugging tool.\n",
    "# The numeric gradient should be close to the analytic gradient.\n",
    "from cs231n.gradient_check import grad_check_sparse\n",
    "f = lambda w: softmax_loss_naive(w, X_dev, y_dev, 0.0)[0]\n",
    "grad_numerical = grad_check_sparse(f, W, grad, 10)\n",
    "\n",
    "# similar to SVM case, do another gradient check with regularization\n",
    "loss, grad = softmax_loss_naive(W, X_dev, y_dev, 1e2)\n",
    "f = lambda w: softmax_loss_naive(w, X_dev, y_dev, 1e2)[0]\n",
    "grad_numerical = grad_check_sparse(f, W, grad, 10)"
   ]
  },
  {
   "cell_type": "code",
   "execution_count": 5,
   "metadata": {
    "collapsed": false
   },
   "outputs": [
    {
     "name": "stdout",
     "output_type": "stream",
     "text": [
      "naive loss: 2.373447e+00 computed in 0.398000s\n",
      "vectorized loss: 2.373447e+00 computed in 0.749000s\n",
      "Loss difference: 0.000000\n",
      "Gradient difference: 0.000000\n"
     ]
    }
   ],
   "source": [
    "# Now that we have a naive implementation of the softmax loss function and its gradient,\n",
    "# implement a vectorized version in softmax_loss_vectorized.\n",
    "# The two versions should compute the same results, but the vectorized version should be\n",
    "# much faster.\n",
    "tic = time.time()\n",
    "loss_naive, grad_naive = softmax_loss_naive(W, X_dev, y_dev, 0.00001)\n",
    "toc = time.time()\n",
    "print 'naive loss: %e computed in %fs' % (loss_naive, toc - tic)\n",
    "\n",
    "from cs231n.classifiers.softmax import softmax_loss_vectorized\n",
    "tic = time.time()\n",
    "loss_vectorized, grad_vectorized = softmax_loss_vectorized(W, X_dev, y_dev, 0.00001)\n",
    "toc = time.time()\n",
    "print 'vectorized loss: %e computed in %fs' % (loss_vectorized, toc - tic)\n",
    "\n",
    "# As we did for the SVM, we use the Frobenius norm to compare the two versions\n",
    "# of the gradient.\n",
    "grad_difference = np.linalg.norm(grad_naive - grad_vectorized, ord='fro')\n",
    "print 'Loss difference: %f' % np.abs(loss_naive - loss_vectorized)\n",
    "print 'Gradient difference: %f' % grad_difference"
   ]
  },
  {
   "cell_type": "code",
   "execution_count": 7,
   "metadata": {
    "collapsed": false,
    "scrolled": true
   },
   "outputs": [
    {
     "name": "stdout",
     "output_type": "stream",
     "text": [
      "iteration 0 / 1500: loss 780.581164\n",
      "iteration 50 / 1500: loss 472.506898\n",
      "iteration 100 / 1500: loss 286.567932\n",
      "iteration 150 / 1500: loss 174.163084\n",
      "iteration 200 / 1500: loss 106.179374\n",
      "iteration 250 / 1500: loss 65.109230\n",
      "iteration 300 / 1500: loss 40.139861\n",
      "iteration 350 / 1500: loss 25.075224\n",
      "iteration 400 / 1500: loss 16.060162\n",
      "iteration 450 / 1500: loss 10.566192\n",
      "iteration 500 / 1500: loss 7.199673\n",
      "iteration 550 / 1500: loss 5.228526\n",
      "iteration 600 / 1500: loss 3.917059\n",
      "iteration 650 / 1500: loss 3.232083\n",
      "iteration 700 / 1500: loss 2.797369\n",
      "iteration 750 / 1500: loss 2.436940\n",
      "iteration 800 / 1500: loss 2.359239\n",
      "iteration 850 / 1500: loss 2.224737\n",
      "iteration 900 / 1500: loss 2.206725\n",
      "iteration 950 / 1500: loss 2.105483\n",
      "iteration 1000 / 1500: loss 2.125105\n",
      "iteration 1050 / 1500: loss 2.161150\n",
      "iteration 1100 / 1500: loss 2.077933\n",
      "iteration 1150 / 1500: loss 2.100144\n",
      "iteration 1200 / 1500: loss 2.037499\n",
      "iteration 1250 / 1500: loss 2.056299\n",
      "iteration 1300 / 1500: loss 2.101608\n",
      "iteration 1350 / 1500: loss 2.075981\n",
      "iteration 1400 / 1500: loss 2.116241\n",
      "iteration 1450 / 1500: loss 2.060980\n",
      "iteration 0 / 1500: loss 1533588.721200\n",
      "iteration 50 / 1500: loss nan\n",
      "iteration 100 / 1500: loss nan\n",
      "iteration 150 / 1500: loss nan\n",
      "iteration 200 / 1500: loss nan\n",
      "iteration 250 / 1500: loss nan\n",
      "iteration 300 / 1500: loss nan\n",
      "iteration 350 / 1500: loss nan\n",
      "iteration 400 / 1500: loss nan\n",
      "iteration 450 / 1500: loss nan\n",
      "iteration 500 / 1500: loss nan\n",
      "iteration 550 / 1500: loss nan\n",
      "iteration 600 / 1500: loss nan\n",
      "iteration 650 / 1500: loss nan\n",
      "iteration 700 / 1500: loss nan\n",
      "iteration 750 / 1500: loss nan\n",
      "iteration 800 / 1500: loss nan\n",
      "iteration 850 / 1500: loss nan\n",
      "iteration 900 / 1500: loss nan\n",
      "iteration 950 / 1500: loss nan\n",
      "iteration 1000 / 1500: loss nan\n",
      "iteration 1050 / 1500: loss nan\n",
      "iteration 1100 / 1500: loss nan\n",
      "iteration 1150 / 1500: loss nan\n",
      "iteration 1200 / 1500: loss nan\n",
      "iteration 1250 / 1500: loss nan\n",
      "iteration 1300 / 1500: loss nan\n",
      "iteration 1350 / 1500: loss nan\n",
      "iteration 1400 / 1500: loss nan\n",
      "iteration 1450 / 1500: loss nan\n",
      "iteration 0 / 1500: loss 765.392548\n",
      "iteration 50 / 1500: loss 62.285718\n",
      "iteration 100 / 1500: loss 6.829656\n",
      "iteration 150 / 1500: loss 2.414399\n",
      "iteration 200 / 1500: loss 2.065825\n",
      "iteration 250 / 1500: loss 2.100083\n",
      "iteration 300 / 1500: loss 2.033571\n",
      "iteration 350 / 1500: loss 2.059581\n",
      "iteration 400 / 1500: loss 2.106750\n",
      "iteration 450 / 1500: loss 2.067651\n",
      "iteration 500 / 1500: loss 2.104976\n",
      "iteration 550 / 1500: loss 2.030337\n",
      "iteration 600 / 1500: loss 2.081007\n",
      "iteration 650 / 1500: loss 2.082859\n",
      "iteration 700 / 1500: loss 2.080640\n",
      "iteration 750 / 1500: loss 2.080978\n",
      "iteration 800 / 1500: loss 2.096389\n",
      "iteration 850 / 1500: loss 2.100852\n",
      "iteration 900 / 1500: loss 2.066914\n",
      "iteration 950 / 1500: loss 2.121571\n",
      "iteration 1000 / 1500: loss 2.067565\n",
      "iteration 1050 / 1500: loss 2.049108\n",
      "iteration 1100 / 1500: loss 2.086848\n",
      "iteration 1150 / 1500: loss 2.151515\n",
      "iteration 1200 / 1500: loss 2.098591\n",
      "iteration 1250 / 1500: loss 2.141886\n",
      "iteration 1300 / 1500: loss 2.056081\n",
      "iteration 1350 / 1500: loss 2.077497\n",
      "iteration 1400 / 1500: loss 2.139706\n",
      "iteration 1450 / 1500: loss 2.055212\n",
      "iteration 0 / 1500: loss 1532740.782648\n",
      "iteration 50 / 1500: loss nan\n",
      "iteration 100 / 1500: loss nan\n",
      "iteration 150 / 1500: loss nan\n",
      "iteration 200 / 1500: loss nan\n",
      "iteration 250 / 1500: loss nan\n",
      "iteration 300 / 1500: loss nan\n",
      "iteration 350 / 1500: loss nan\n",
      "iteration 400 / 1500: loss nan\n",
      "iteration 450 / 1500: loss nan\n",
      "iteration 500 / 1500: loss nan\n",
      "iteration 550 / 1500: loss nan\n",
      "iteration 600 / 1500: loss nan\n",
      "iteration 650 / 1500: loss nan\n",
      "iteration 700 / 1500: loss nan\n",
      "iteration 750 / 1500: loss nan\n",
      "iteration 800 / 1500: loss nan\n",
      "iteration 850 / 1500: loss nan\n",
      "iteration 900 / 1500: loss nan\n",
      "iteration 950 / 1500: loss nan\n",
      "iteration 1000 / 1500: loss nan\n",
      "iteration 1050 / 1500: loss nan\n",
      "iteration 1100 / 1500: loss nan\n",
      "iteration 1150 / 1500: loss nan\n",
      "iteration 1200 / 1500: loss nan\n",
      "iteration 1250 / 1500: loss nan\n",
      "iteration 1300 / 1500: loss nan\n",
      "iteration 1350 / 1500: loss nan\n",
      "iteration 1400 / 1500: loss nan\n",
      "iteration 1450 / 1500: loss nan\n",
      "lr 1.000000e-07 reg 5.000000e+04 train accuracy: 0.330469 val accuracy: 0.344000\n",
      "lr 1.000000e-07 reg 1.000000e+08 train accuracy: 0.100265 val accuracy: 0.087000\n",
      "lr 5.000000e-07 reg 5.000000e+04 train accuracy: 0.319939 val accuracy: 0.331000\n",
      "lr 5.000000e-07 reg 1.000000e+08 train accuracy: 0.100265 val accuracy: 0.087000\n",
      "best validation accuracy achieved during cross-validation: 0.344000\n"
     ]
    }
   ],
   "source": [
    "# Use the validation set to tune hyperparameters (regularization strength and\n",
    "# learning rate). You should experiment with different ranges for the learning\n",
    "# rates and regularization strengths; if you are careful you should be able to\n",
    "# get a classification accuracy of over 0.35 on the validation set.\n",
    "from cs231n.classifiers import Softmax\n",
    "results = {}\n",
    "best_val = -1\n",
    "best_softmax = None\n",
    "learning_rates = [1e-7, 5e-7]\n",
    "regularization_strengths = [5e4, 1e8]\n",
    "\n",
    "################################################################################\n",
    "# TODO:                                                                        #\n",
    "# Use the validation set to set the learning rate and regularization strength. #\n",
    "# This should be identical to the validation that you did for the SVM; save    #\n",
    "# the best trained softmax classifer in best_softmax.                          #\n",
    "################################################################################\n",
    "best_val = 0\n",
    "for i in learning_rates:\n",
    "    for j in regularization_strengths:  \n",
    "        softmax =  Softmax()\n",
    "        loss_hist = softmax.train(X_train, y_train, learning_rate=i, reg=j,\n",
    "                      num_iters=1500, verbose=True)\n",
    "        results[(i,j)]=[]\n",
    "        y_train_pred = softmax.predict(X_train)\n",
    "        results[(i,j)].append(np.mean(y_train == y_train_pred))\n",
    "        y_val_pred = softmax.predict(X_val)\n",
    "        val_accuracy = np.mean(y_val == y_val_pred)\n",
    "        results[(i,j)].append(val_accuracy)\n",
    "        if val_accuracy > best_val:\n",
    "            best_val = val_accuracy\n",
    "            best_softmax = softmax\n",
    "################################################################################\n",
    "#                              END OF YOUR CODE                                #\n",
    "################################################################################\n",
    "    \n",
    "# Print out results.\n",
    "for lr, reg in sorted(results):\n",
    "    train_accuracy, val_accuracy = results[(lr, reg)]\n",
    "    print 'lr %e reg %e train accuracy: %f val accuracy: %f' % (\n",
    "                lr, reg, train_accuracy, val_accuracy)\n",
    "    \n",
    "print 'best validation accuracy achieved during cross-validation: %f' % best_val"
   ]
  },
  {
   "cell_type": "code",
   "execution_count": 8,
   "metadata": {
    "collapsed": false
   },
   "outputs": [
    {
     "name": "stdout",
     "output_type": "stream",
     "text": [
      "softmax on raw pixels final test set accuracy: 0.344000\n"
     ]
    }
   ],
   "source": [
    "# evaluate on test set\n",
    "# Evaluate the best softmax on test set\n",
    "y_test_pred = best_softmax.predict(X_test)\n",
    "test_accuracy = np.mean(y_test == y_test_pred)\n",
    "print 'softmax on raw pixels final test set accuracy: %f' % (test_accuracy, )"
   ]
  },
  {
   "cell_type": "code",
   "execution_count": 9,
   "metadata": {
    "collapsed": false
   },
   "outputs": [
    {
     "data": {
      "image/png": "[encoded data removed]",
      "text/plain": [
       "<matplotlib.figure.Figure at 0x8f592b0>"
      ]
     },
     "metadata": {},
     "output_type": "display_data"
    }
   ],
   "source": [
    "# Visualize the learned weights for each class\n",
    "w = best_softmax.W[:-1,:] # strip out the bias\n",
    "w = w.reshape(32, 32, 3, 10)\n",
    "\n",
    "w_min, w_max = np.min(w), np.max(w)\n",
    "\n",
    "classes = ['plane', 'car', 'bird', 'cat', 'deer', 'dog', 'frog', 'horse', 'ship', 'truck']\n",
    "for i in xrange(10):\n",
    "  plt.subplot(2, 5, i + 1)\n",
    "  \n",
    "  # Rescale the weights to be between 0 and 255\n",
    "  wimg = 255.0 * (w[:, :, :, i].squeeze() - w_min) / (w_max - w_min)\n",
    "  plt.imshow(wimg.astype('uint8'))\n",
    "  plt.axis('off')\n",
    "  plt.title(classes[i])"
   ]
  }
 ],
 "metadata": {
  "kernelspec": {
   "display_name": "Python 2",
   "language": "python",
   "name": "python2"
  },
  "language_info": {
   "codemirror_mode": {
    "name": "ipython",
    "version": 2
   },
   "file_extension": ".py",
   "mimetype": "text/x-python",
   "name": "python",
   "nbconvert_exporter": "python",
   "pygments_lexer": "ipython2",
   "version": "2.7.13"
  }
 },
 "nbformat": 4,
 "nbformat_minor": 0
}
